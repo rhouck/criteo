{
 "metadata": {
  "name": "",
  "signature": "sha256:274581e7df87f0c2d30d5b7dd7796f1899eb737110140efac7e4af999eb948cc"
 },
 "nbformat": 3,
 "nbformat_minor": 0,
 "worksheets": [
  {
   "cells": [
    {
     "cell_type": "markdown",
     "metadata": {},
     "source": [
      "<h1>Criteo CTR prediction</h1>\n",
      "\n",
      "By: Ryan Houck\n",
      "\n",
      "<h3>Summary:</h3>\n",
      "\n",
      "By training a stochastic gradient descent with a logistic regression loss function on just 100k rows of the Criteo training set, I was able to get an average loss/cost of 0.54 with average accuracy of nearly 80%. Judging by trends in the charts below, it is likely the model would continue to improve materialy on larger sets of data.\n",
      "\n",
      "Although the data set used here was small, the methodology for training the model is scalable to the full size of the Criteo training set as the model was trained out of core, row by row on a hashed feature space.\n",
      "\n",
      "<h3>Explanation:</h3>\n",
      "\n",
      "The standard approach to machine learning problems is to load the data set in question into memory then iteratively train and test a model over randomly selected rows of the data set. Doing this enables a person to get a working model in short period of time that generalizes well by not over-fitting to certain sections of the data set.\n",
      "\n",
      "The Criteo training set, however, is tens of millions of rows long. Analyzing a data set of this size in memory isn't practical. Moreover, a company like Criteo is constantly generating new rows of data to analyze and whatever model is employed needs to update regularly to account for changing trends in the data.\n",
      "\n",
      "With this type of problem, it makes sense to try an online learning approach, also called \"out of core\" learning. Here, a model is trained and updated with every new data point as it comes in. Programs, such as Vowpal Wabbit, have been built to handle these sorts of environments. With Vowpal Wabbit, new rows of data are passed to the model as they come in (often user-generated data) and the model is immediately updated, one row at a time.\n",
      "\n",
      "Here I'll simulate online learning on a relatively small subset of the Criteo training set. Instead of using Vowpal Wabbit, I'll iterate over a CSV file and update the model line by line. The data set is kept short for demonstration purposes in this iPython Notebook but could easily be extended to the full data set.\n",
      "\n",
      "Because we'll be training the model line by line to simulate an online learning environment, we'll use a stochastic gradient descent algorithm to update model-fitting parameters. A challenge with this problem is that the majority of the data set's features are categorical (e.g. red, blue, green, rather than vectors: 1.0, 1.5, 2.5). With categorical features it's necessary to encode the features as a series of binary values.\n",
      "\n",
      "To continue with the color example, instead of storing the feature : value pair as:\n",
      "\n",
      "['color': 'red'],\n",
      "\n",
      "We'd need to encode the feature as:\n",
      "\n",
      "['red': 1, 'blue': 0, 'green': 0]\n",
      "\n",
      "The challenge with implementing this when you aren't able to store the entire data set into memory is it's impossible to know how many values of a given feature will be present. There could be ten colors or one thousand. People have handled these sorts of situations by implementing what is called the \"hashing trick\". With this, we assume from the start that each row of data has some very large number of features (e.g. one million). We won't know what these features represent ahead of time. Instead, each feature-value combination is mapped to it's own position in this feature space of some large number, one million in this example. The hope then is that there are fewer than one million unique feature : value combinations. If there are more than one million unique combinations, some feature-values will be lumped together and treated as the same by the machine-learning algorithm. The hope then is that this occurs infrequently enough that it has little overall impact on model performance. Although the first 13 features in the training set are integer values, not categorical, it is possible to treat them as categories and apply the same hashing trick to the entire training set.\n",
      "\n",
      "I've chosen to use a Logistic Regression cost function to train and update the model. Logistic regression is one of the most widely used classification algorithms in part because it handles large feature spaces well. It works by applying a sigmoid function to a given linear regression hypothesis (H = m0 + m1X1 + m2X2 + m3X3) so that all predictions represent some probability that the true value is 1. The model then heavily penalizes predictions that are far off.\n",
      "\n",
      "For example:\n",
      "\n",
      "If the model predicts with 95% confidence that the true value is 1, and it turns out to be correct, the penalty is small. If the model predicts with 95% confidence that the true value is 1, and it turns out to be incorrect, the penalty is very large. If it predicts with 50% confidence that the true value is 1, the penalty will be somewhere in the middle.\n",
      "\n",
      "Next I'll explain how the script below operates.\n",
      "\n",
      "<h3>Methodology:</h3>\n",
      "    1. Instantiate stochastic gradient descent classifier algorithm with logistic regression loss function\n",
      "    2. For each row in data set:\n",
      "        1. Remove target feature from row and set as 'y' (y is 1 or 0, representing clicked or not clicked, respectively)\n",
      "        2. Hash all remaining feature : value pairs into sparse matrix of sufficiently high dimensional space\n",
      "        3. Apply logistic regression algorithm to predict probability that row represents a clicked-ad (i.e. y = 1)\n",
      "        4. Compare prediction to actual target value, y, and record both the cost function (log loss) and accuracy\n",
      "        5. Update/train model on row, adjusting parameters to reflect the model prediction performance on the row\n",
      "        6. Drop the row"
     ]
    },
    {
     "cell_type": "code",
     "collapsed": false,
     "input": [
      "# import dependencies\n",
      "import csv\n",
      "from datetime import datetime\n",
      "from math import exp, log, sqrt\n",
      " \n",
      "%matplotlib inline\n",
      "import numpy as np\n",
      "import pandas as pd\n",
      "import matplotlib.pyplot as plt\n",
      " \n",
      "from sklearn.feature_extraction import FeatureHasher\n",
      "from sklearn.linear_model import SGDClassifier"
     ],
     "language": "python",
     "metadata": {},
     "outputs": [],
     "prompt_number": 2
    },
    {
     "cell_type": "markdown",
     "metadata": {},
     "source": [
      "For purposes of demonstration, I'm working with a truncated criteo data set. It can be assumed that the model will only improve in performance with the full data set."
     ]
    },
    {
     "cell_type": "code",
     "collapsed": false,
     "input": [
      "# truncate criteo train data set to first 100,000 lines to iterate over\n",
      "train = 'source/train_small.txt'\n",
      "reader = csv.reader( open( train, 'r' ), delimiter = '\\t' )"
     ],
     "language": "python",
     "metadata": {},
     "outputs": [],
     "prompt_number": 3
    },
    {
     "cell_type": "markdown",
     "metadata": {},
     "source": [
      "These functions are used to calibrate the model and format data for SGD / logistic regression algorithm."
     ]
    },
    {
     "cell_type": "code",
     "collapsed": false,
     "input": [
      "# this is the cost function for logistic regression\n",
      "# this is calculated for every iteration over the data set\n",
      "# the machine learning algorithm adjusts it's parameters in an attempt to reduce this value over time to a global minimum\n",
      "def logloss(p, y):\n",
      "    p = max(min(p, 1. - 10e-12), 10e-12)\n",
      "    return -log(p) if y == 1. else -log(1. - p)\n",
      " \n",
      "# this is used to test the accuracy of the logistic regression algorithm\n",
      "# the algorithm estimates the probability that a feature vector (row) represents a clicked advertisement\n",
      "# if this probability is greater than 0.5, the model estimates it is a clicked advertisement\n",
      "def prediction(p):\n",
      "    pred = 1. if p >= 0.5 else 0.\n",
      "    return pred \n",
      " \n",
      "# this function returns a sparce matrix containing hashed feature:value pairs for each feature vector (row)\n",
      "# with online (iterative) learning, it's impossible to know the full range of categorical values for a feature ahead of time\n",
      "# to get around this, we create new features for each unique feature:value pairs by storing hashed values to represent indices in a large vector\n",
      "def hash_x(csv_row, hasher):\n",
      "    x = []\n",
      "    for count, value in enumerate(csv_row):\n",
      "        if value:\n",
      "            x.append('F%s:%s' % (count,value))\n",
      "    \n",
      "    x = hasher.transform([x])\n",
      "    return x"
     ],
     "language": "python",
     "metadata": {},
     "outputs": [],
     "prompt_number": 4
    },
    {
     "cell_type": "markdown",
     "metadata": {},
     "source": [
      "Set parameters and performance-tracking variables for main loop "
     ]
    },
    {
     "cell_type": "code",
     "collapsed": false,
     "input": [
      "# this will keep track of the average cost function over time \n",
      "# the aim is to minimize this\n",
      "loss = 0.\n",
      " \n",
      "# this will keep track of average prediction accuracy over time\n",
      "# the aim is to maximize this\n",
      "accuracy = 0.\n",
      " \n",
      "# this is the logistic regression classifier model\n",
      "clf = SGDClassifier(loss='log', alpha=0.001)\n",
      " \n",
      "# this is the hashing algorithm we'll be using to map the feature set of unknown complexity\n",
      "hasher = FeatureHasher(input_type='string', n_features=(2 ** 15))\n",
      " \n",
      "# this matrix will store periodic summarizing data to track algorithm performance over time\n",
      "chart_data = np.empty((0,3), float)"
     ],
     "language": "python",
     "metadata": {},
     "outputs": [],
     "prompt_number": 5
    },
    {
     "cell_type": "markdown",
     "metadata": {},
     "source": [
      "Train model on data set by predicting probability each row represents a clicked-ad, then compairing prediction to actual value and adjusting the model when predicted probabilty does not match actual value."
     ]
    },
    {
     "cell_type": "code",
     "collapsed": false,
     "input": [
      "# this is the main loop that iterates through the data set and trains the model one row at a time\n",
      "for t, row in enumerate(reader):\n",
      "      \n",
      "    y = 1. if row[0] == '1' else 0.\n",
      "    # delete 'answer' so model doesn't train with it visible\n",
      "    del row[0]\n",
      "    \n",
      "    # step 1, get the hashed features\n",
      "    x = hash_x(row, hasher)\n",
      "    \n",
      "    if t > 1:\n",
      "        \n",
      "        # estimate liklihood classification is 1\n",
      "        prob = clf.predict_proba(x)[0][1]\n",
      "        # estimate classification\n",
      "        pred = prediction(prob)\n",
      "        # calc cost function and increment\n",
      "        loss += logloss(prob, y)\n",
      "        # add one point for correct prediction\n",
      "        accuracy += 1. if pred == y else 0.\n",
      "            \n",
      "        # checkpoint at every 10,000 rows to confirm model is improving and at an acceptable pace\n",
      "        if t % 10000 == 0:\n",
      "            avg_loss = loss/t\n",
      "            avg_accuracy = accuracy/t\n",
      "            print('%s\\tencountered: %d\\tcurrent logloss: %f\\tcurrent score: %f' % (datetime.now(), t, avg_loss, avg_accuracy))\n",
      "            # save checkpoint stats for plotting performance after loop completion\n",
      "            chart_data = np.append(chart_data, np.array([[t,avg_loss,avg_accuracy]]), axis=0)\n",
      " \n",
      "    # fit model for one row\n",
      "    clf.partial_fit(x, np.asarray([y]), np.asarray([0.,1.]))"
     ],
     "language": "python",
     "metadata": {},
     "outputs": [
      {
       "output_type": "stream",
       "stream": "stdout",
       "text": [
        "2014-10-19 09:13:11.807299\tencountered: 10000\tcurrent logloss: 1.083274\tcurrent score: 0.738500\n",
        "2014-10-19 09:13:17.863658\tencountered: 20000\tcurrent logloss: 0.809803\tcurrent score: 0.749550"
       ]
      },
      {
       "output_type": "stream",
       "stream": "stdout",
       "text": [
        "\n",
        "2014-10-19 09:13:23.159568\tencountered: 30000\tcurrent logloss: 0.699440\tcurrent score: 0.760967"
       ]
      },
      {
       "output_type": "stream",
       "stream": "stdout",
       "text": [
        "\n",
        "2014-10-19 09:13:28.738697\tencountered: 40000\tcurrent logloss: 0.640905\tcurrent score: 0.768850"
       ]
      },
      {
       "output_type": "stream",
       "stream": "stdout",
       "text": [
        "\n",
        "2014-10-19 09:13:33.802337\tencountered: 50000\tcurrent logloss: 0.605870\tcurrent score: 0.773660"
       ]
      },
      {
       "output_type": "stream",
       "stream": "stdout",
       "text": [
        "\n",
        "2014-10-19 09:13:38.678110\tencountered: 60000\tcurrent logloss: 0.582358\tcurrent score: 0.776400"
       ]
      },
      {
       "output_type": "stream",
       "stream": "stdout",
       "text": [
        "\n",
        "2014-10-19 09:13:45.029503\tencountered: 70000\tcurrent logloss: 0.564833\tcurrent score: 0.778829"
       ]
      },
      {
       "output_type": "stream",
       "stream": "stdout",
       "text": [
        "\n",
        "2014-10-19 09:13:50.830634\tencountered: 80000\tcurrent logloss: 0.551268\tcurrent score: 0.781100"
       ]
      },
      {
       "output_type": "stream",
       "stream": "stdout",
       "text": [
        "\n",
        "2014-10-19 09:13:56.313669\tencountered: 90000\tcurrent logloss: 0.540634\tcurrent score: 0.782889"
       ]
      },
      {
       "output_type": "stream",
       "stream": "stdout",
       "text": [
        "\n"
       ]
      }
     ],
     "prompt_number": 6
    },
    {
     "cell_type": "markdown",
     "metadata": {},
     "source": [
      "For each row in the data set, the model calculates a penalty or cost for its prediction error. Because the model can never predict the true value with 100% certainty, there will always be some error for each prediction, however small. The model updates its weights / parameters at every iteration in attempt to reduce this cost for the next prediction.\n",
      "\n",
      "If the model is learning, its average cost should decrease over time. This average cost is plotted in the first chart. Similarly, the ratio of correct predictions should increase over time. The ratio of correct predictions is called \"accuracy\" is plotted in the second chart."
     ]
    },
    {
     "cell_type": "code",
     "collapsed": false,
     "input": [
      "# print chart   \n",
      "chart_data_frame = pd.DataFrame({\n",
      "                                'Avg Loss': chart_data[:,1],\n",
      "                                'Avg Accuracy': chart_data[:,2]\n",
      "                                }, \n",
      "                                index=chart_data[:,0])  "
     ],
     "language": "python",
     "metadata": {},
     "outputs": [],
     "prompt_number": 7
    },
    {
     "cell_type": "code",
     "collapsed": false,
     "input": [
      "# chart avg cost function value over time\n",
      "log_chart = chart_data_frame.ix[:,'Avg Loss'].plot()\n",
      "log_chart.set_xlabel('Iterations')\n",
      "log_chart.set_ylabel('Avg Log Loss')\n",
      "log_chart.set_title('Plot of Avg Cost Function Over Time')"
     ],
     "language": "python",
     "metadata": {},
     "outputs": [
      {
       "metadata": {},
       "output_type": "pyout",
       "prompt_number": 8,
       "text": [
        "<matplotlib.text.Text at 0x110620f50>"
       ]
      },
      {
       "metadata": {},
       "output_type": "display_data",
       "png": "[encoded data removed]",
       "text": [
        "<matplotlib.figure.Figure at 0x110502610>"
       ]
      }
     ],
     "prompt_number": 8
    },
    {
     "cell_type": "code",
     "collapsed": false,
     "input": [
      "# chart avg prediction accuracy over time\n",
      "acc_chart = chart_data_frame.ix[:,'Avg Accuracy'].plot()\n",
      "acc_chart.set_xlabel('Iterations')\n",
      "acc_chart.set_ylabel('Avg Accuracy')\n",
      "acc_chart.set_title('Plot of Avg Prediction Accuracy Over Time')"
     ],
     "language": "python",
     "metadata": {},
     "outputs": [
      {
       "metadata": {},
       "output_type": "pyout",
       "prompt_number": 9,
       "text": [
        "<matplotlib.text.Text at 0x11066db50>"
       ]
      },
      {
       "metadata": {},
       "output_type": "display_data",
       "png": "[encoded data removed]",
       "text": [
        "<matplotlib.figure.Figure at 0x11063bd50>"
       ]
      }
     ],
     "prompt_number": 9
    }
   ],
   "metadata": {}
  }
 ]
}
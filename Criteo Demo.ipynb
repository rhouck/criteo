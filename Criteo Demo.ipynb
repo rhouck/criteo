{
 "metadata": {
  "name": "",
  "signature": "sha256:5ca7ef66b8e61c9c62e429fd5cc7198fa004a952ae450b42582656e828396253"
 },
 "nbformat": 3,
 "nbformat_minor": 0,
 "worksheets": [
  {
   "cells": [
    {
     "cell_type": "markdown",
     "metadata": {},
     "source": [
      "<h1>Criteo CTR prediction</h1>\n",
      "\n",
      "By: Ryan Houck\n",
      "\n",
      "<h3>Summary:</h3>\n",
      "\n",
      "By training a stochastic gradient descent with a logistic regression loss function on the first 10 million rows of the Criteo training set, I was able to get an average loss/cost of 0.48 with average accuracy of nearly 80%.\n",
      "\n",
      "Although the data set used here was a subset of the full training set, the methodology for training the model is scalable to the full Criteo training set as the model was trained out of core, row by row on a hashed feature space.\n",
      "\n",
      "<h3>Explanation:</h3>\n",
      "\n",
      "The standard approach to machine learning problems is to load the data set in question into memory then iteratively train and test a model over randomly selected rows of the data set. Doing this enables a person to get a working model in short period of time that generalizes well by not over-fitting to certain sections of the data set.\n",
      "\n",
      "The Criteo training set, however, is tens of millions of rows long. Analyzing a data set of this size in memory isn't practical. Moreover, a company like Criteo is constantly generating new rows of data to analyze and whatever model is employed needs to update regularly to account for changing trends in the data.\n",
      "\n",
      "With this type of problem, it makes sense to try an online learning approach, also called \"out of core\" learning. Here, a model is trained and updated with every new data point as it comes in. Programs, such as Vowpal Wabbit, have been built to handle these sorts of environments. With Vowpal Wabbit, new rows of data are passed to the model as they come in (often user-generated data) and the model is immediately updated, one row at a time.\n",
      "\n",
      "Here I'll simulate online learning on a relatively small subset of the Criteo training set. Instead of using Vowpal Wabbit, I'll iterate over a CSV file and update the model line by line. The data set is kept short for demonstration purposes in this iPython Notebook but could easily be extended to the full data set.\n",
      "\n",
      "Because we'll be training the model line by line to simulate an online learning environment, we'll use a stochastic gradient descent algorithm to update model-fitting parameters. A challenge with this problem is that the majority of the data set's features are categorical (e.g. red, blue, green, rather than vectors: 1.0, 1.5, 2.5). With categorical features it's necessary to encode the features as a series of binary values.\n",
      "\n",
      "To continue with the color example, instead of storing the feature : value pair as:\n",
      "\n",
      "['color': 'red'],\n",
      "\n",
      "We'd need to encode the feature as:\n",
      "\n",
      "['red': 1, 'blue': 0, 'green': 0]\n",
      "\n",
      "The challenge with implementing this when you aren't able to store the entire data set into memory is it's impossible to know how many values of a given feature will be present. There could be ten colors or one thousand. People have handled these sorts of situations by implementing what is called the \"hashing trick\". With this, we assume from the start that each row of data has some very large number of features (e.g. one million). We won't know what these features represent ahead of time. Instead, each feature-value combination is mapped to it's own position in this feature space of some large number, one million in this example. The hope then is that there are fewer than one million unique feature : value combinations. If there are more than one million unique combinations, some feature-values will be lumped together and treated as the same by the machine-learning algorithm. The hope then is that this occurs infrequently enough that it has little overall impact on model performance. Although the first 13 features in the training set are integer values, not categorical, it is possible to treat them as categories and apply the same hashing trick to the entire training set.\n",
      "\n",
      "I've chosen to use a Logistic Regression cost function to train and update the model. Logistic regression is one of the most widely used classification algorithms in part because it handles large feature spaces well. It works by applying a sigmoid function to a given linear regression hypothesis (H = m0 + m1X1 + m2X2 + m3X3) so that all predictions represent some probability that the true value is 1. The model then heavily penalizes predictions that are far off.\n",
      "\n",
      "For example:\n",
      "\n",
      "If the model predicts with 95% confidence that the true value is 1, and it turns out to be correct, the penalty is small. If the model predicts with 95% confidence that the true value is 1, and it turns out to be incorrect, the penalty is very large. If it predicts with 50% confidence that the true value is 1, the penalty will be somewhere in the middle.\n",
      "\n",
      "Next I'll explain how the script below operates.\n",
      "\n",
      "<h3>Methodology:</h3>\n",
      "    1. Instantiate stochastic gradient descent classifier algorithm with logistic regression loss function\n",
      "    2. For each row in data set:\n",
      "        1. Remove target feature from row and set as 'y' (y is 1 or 0, representing clicked or not clicked, respectively)\n",
      "        2. Hash all remaining feature : value pairs into sparse matrix of sufficiently high dimensional space\n",
      "        3. Apply logistic regression algorithm to predict probability that row represents a clicked-ad (i.e. y = 1)\n",
      "        4. Compare prediction to actual target value, y, and record both the cost function (log loss) and accuracy\n",
      "        5. Update/train model on row, adjusting parameters to reflect the model prediction performance on the row\n",
      "        6. Drop the row"
     ]
    },
    {
     "cell_type": "code",
     "collapsed": false,
     "input": [
      "# import dependencies\n",
      "import csv\n",
      "from datetime import datetime\n",
      "from math import log\n",
      " \n",
      "%matplotlib inline\n",
      "import numpy as np\n",
      "import pandas as pd\n",
      "import matplotlib.pyplot as plt\n",
      " \n",
      "from sklearn.feature_extraction import FeatureHasher\n",
      "from sklearn.linear_model import SGDClassifier"
     ],
     "language": "python",
     "metadata": {},
     "outputs": [],
     "prompt_number": 46
    },
    {
     "cell_type": "markdown",
     "metadata": {},
     "source": [
      "For purposes of demonstration, I'm working with a truncated criteo data set. It can be assumed that the model will only improve in performance with the full data set."
     ]
    },
    {
     "cell_type": "code",
     "collapsed": false,
     "input": [
      "# truncate criteo train data set to first 10,000,000 lines to iterate over\n",
      "train = 'source/train_small.txt'\n",
      "reader = csv.reader( open( train, 'r' ), delimiter = '\\t' )"
     ],
     "language": "python",
     "metadata": {},
     "outputs": [],
     "prompt_number": 47
    },
    {
     "cell_type": "markdown",
     "metadata": {},
     "source": [
      "These functions are used to calibrate the model and format data for SGD / logistic regression algorithm."
     ]
    },
    {
     "cell_type": "code",
     "collapsed": false,
     "input": [
      "# this is the cost function for logistic regression\n",
      "# this is calculated for every iteration over the data set\n",
      "# the machine learning algorithm adjusts it's parameters in an attempt to reduce this value over time to a global minimum\n",
      "def logloss(p, y):\n",
      "    p = max(min(p, 1. - 10e-12), 10e-12)\n",
      "    return -log(p) if y == 1. else -log(1. - p)\n",
      " \n",
      "# this is used to test the accuracy of the logistic regression algorithm\n",
      "# the algorithm estimates the probability that a feature vector (row) represents a clicked advertisement\n",
      "# if this probability is greater than 0.5, the model estimates it is a clicked advertisement\n",
      "def prediction(p):\n",
      "    pred = 1. if p >= 0.5 else 0.\n",
      "    return pred \n",
      " \n",
      "# this function returns a sparce matrix containing hashed feature:value pairs for each feature vector (row)\n",
      "# with online (iterative) learning, it's impossible to know the full range of categorical values for a feature ahead of time\n",
      "# to get around this, we create new features for each unique feature:value pairs by storing hashed values to represent indices in a large vector\n",
      "def hash_x(csv_row, hasher):\n",
      "    x = []\n",
      "    for count, value in enumerate(csv_row):\n",
      "        if value:\n",
      "            x.append('F%s:%s' % (count,value))\n",
      "    \n",
      "    x = hasher.transform([x])\n",
      "    return x"
     ],
     "language": "python",
     "metadata": {},
     "outputs": [],
     "prompt_number": 48
    },
    {
     "cell_type": "markdown",
     "metadata": {},
     "source": [
      "Set parameters and performance-tracking variables for main loop "
     ]
    },
    {
     "cell_type": "code",
     "collapsed": false,
     "input": [
      "# this will keep track of the average cost function over time \n",
      "# the aim is to minimize this\n",
      "loss = 0.\n",
      " \n",
      "# this will keep track of average prediction accuracy over time\n",
      "# the aim is to maximize this\n",
      "accuracy = 0.\n",
      " \n",
      "# this is the logistic regression classifier model\n",
      "clf = SGDClassifier(loss='log', alpha=0.0005)\n",
      " \n",
      "# this is the hashing algorithm we'll be using to map the feature set of unknown complexity\n",
      "hasher = FeatureHasher(input_type='string', n_features=(2 ** 15))\n",
      " \n",
      "# this matrix will store periodic summarizing data to track algorithm performance over time\n",
      "chart_data = np.empty((0,3), float)"
     ],
     "language": "python",
     "metadata": {},
     "outputs": [],
     "prompt_number": 49
    },
    {
     "cell_type": "markdown",
     "metadata": {},
     "source": [
      "Train model on data set by predicting probability each row represents a clicked-ad, then compairing prediction to actual value and adjusting the model when predicted probabilty does not match actual value."
     ]
    },
    {
     "cell_type": "code",
     "collapsed": false,
     "input": [
      "# this is the main loop that iterates through the data set and trains the model one row at a time\n",
      "for t, row in enumerate(reader):\n",
      "      \n",
      "    y = 1. if row[0] == '1' else 0.\n",
      "    # delete 'answer' so model doesn't train with it visible\n",
      "    del row[0]\n",
      "    \n",
      "    # step 1, get the hashed features\n",
      "    x = hash_x(row, hasher)\n",
      "    \n",
      "    if t > 1:\n",
      "        \n",
      "        # estimate liklihood classification is 1\n",
      "        prob = clf.predict_proba(x)[0][1]\n",
      "        # estimate classification\n",
      "        pred = prediction(prob)\n",
      "        # calc cost function and increment\n",
      "        loss += logloss(prob, y)\n",
      "        # add one point for correct prediction\n",
      "        accuracy += 1. if pred == y else 0.\n",
      "            \n",
      "        # checkpoint at every 100,000 rows to confirm model is improving and at an acceptable pace\n",
      "        if t % 100000 == 0:\n",
      "            avg_loss = loss/t\n",
      "            avg_accuracy = accuracy/t\n",
      "            print('%s\\trows seen: %d\\tcurrent logloss: %f\\tavg accuracy: %f' % (datetime.now(), t, avg_loss, avg_accuracy))\n",
      "            # save checkpoint stats for plotting performance after loop completion\n",
      "            chart_data = np.append(chart_data, np.array([[t,avg_loss,avg_accuracy]]), axis=0)\n",
      " \n",
      "    # fit model for one row\n",
      "    clf.partial_fit(x, np.asarray([y]), np.asarray([0.,1.]))"
     ],
     "language": "python",
     "metadata": {},
     "outputs": [
      {
       "output_type": "stream",
       "stream": "stdout",
       "text": [
        "2014-10-20 18:02:08.317470\trows seen: 100000\tcurrent logloss: 0.625578\tavg accuracy: 0.773660\n",
        "2014-10-20 18:02:57.245325\trows seen: 200000\tcurrent logloss: 0.554200\tavg accuracy: 0.773535"
       ]
      },
      {
       "output_type": "stream",
       "stream": "stdout",
       "text": [
        "\n",
        "2014-10-20 18:03:45.181300\trows seen: 300000\tcurrent logloss: 0.535347\tavg accuracy: 0.770253"
       ]
      },
      {
       "output_type": "stream",
       "stream": "stdout",
       "text": [
        "\n",
        "2014-10-20 18:04:33.767201\trows seen: 400000\tcurrent logloss: 0.524812\tavg accuracy: 0.769787"
       ]
      },
      {
       "output_type": "stream",
       "stream": "stdout",
       "text": [
        "\n",
        "2014-10-20 18:05:21.832914\trows seen: 500000\tcurrent logloss: 0.518308\tavg accuracy: 0.769364"
       ]
      },
      {
       "output_type": "stream",
       "stream": "stdout",
       "text": [
        "\n",
        "2014-10-20 18:06:10.107518\trows seen: 600000\tcurrent logloss: 0.513024\tavg accuracy: 0.769785"
       ]
      },
      {
       "output_type": "stream",
       "stream": "stdout",
       "text": [
        "\n",
        "2014-10-20 18:06:59.010378\trows seen: 700000\tcurrent logloss: 0.508467\tavg accuracy: 0.770547"
       ]
      },
      {
       "output_type": "stream",
       "stream": "stdout",
       "text": [
        "\n",
        "2014-10-20 18:07:47.577454\trows seen: 800000\tcurrent logloss: 0.504685\tavg accuracy: 0.771649"
       ]
      },
      {
       "output_type": "stream",
       "stream": "stdout",
       "text": [
        "\n",
        "2014-10-20 18:08:35.625959\trows seen: 900000\tcurrent logloss: 0.501673\tavg accuracy: 0.772316"
       ]
      },
      {
       "output_type": "stream",
       "stream": "stdout",
       "text": [
        "\n",
        "2014-10-20 18:09:26.200577\trows seen: 1000000\tcurrent logloss: 0.499026\tavg accuracy: 0.773090"
       ]
      },
      {
       "output_type": "stream",
       "stream": "stdout",
       "text": [
        "\n",
        "2014-10-20 18:10:12.860768\trows seen: 1100000\tcurrent logloss: 0.497005\tavg accuracy: 0.773581"
       ]
      },
      {
       "output_type": "stream",
       "stream": "stdout",
       "text": [
        "\n",
        "2014-10-20 18:10:59.583997\trows seen: 1200000\tcurrent logloss: 0.495381\tavg accuracy: 0.773929"
       ]
      },
      {
       "output_type": "stream",
       "stream": "stdout",
       "text": [
        "\n",
        "2014-10-20 18:11:50.269962\trows seen: 1300000\tcurrent logloss: 0.493904\tavg accuracy: 0.774368"
       ]
      },
      {
       "output_type": "stream",
       "stream": "stdout",
       "text": [
        "\n",
        "2014-10-20 18:12:38.876753\trows seen: 1400000\tcurrent logloss: 0.492660\tavg accuracy: 0.774683"
       ]
      },
      {
       "output_type": "stream",
       "stream": "stdout",
       "text": [
        "\n",
        "2014-10-20 18:13:26.484858\trows seen: 1500000\tcurrent logloss: 0.491469\tavg accuracy: 0.775089"
       ]
      },
      {
       "output_type": "stream",
       "stream": "stdout",
       "text": [
        "\n",
        "2014-10-20 18:14:17.379694\trows seen: 1600000\tcurrent logloss: 0.490550\tavg accuracy: 0.775397"
       ]
      },
      {
       "output_type": "stream",
       "stream": "stdout",
       "text": [
        "\n",
        "2014-10-20 18:15:07.629196\trows seen: 1700000\tcurrent logloss: 0.489604\tavg accuracy: 0.775667"
       ]
      },
      {
       "output_type": "stream",
       "stream": "stdout",
       "text": [
        "\n",
        "2014-10-20 18:15:56.627727\trows seen: 1800000\tcurrent logloss: 0.488710\tavg accuracy: 0.775981"
       ]
      },
      {
       "output_type": "stream",
       "stream": "stdout",
       "text": [
        "\n",
        "2014-10-20 18:16:45.814700\trows seen: 1900000\tcurrent logloss: 0.487866\tavg accuracy: 0.776359"
       ]
      },
      {
       "output_type": "stream",
       "stream": "stdout",
       "text": [
        "\n",
        "2014-10-20 18:17:37.450986\trows seen: 2000000\tcurrent logloss: 0.487105\tavg accuracy: 0.776684"
       ]
      },
      {
       "output_type": "stream",
       "stream": "stdout",
       "text": [
        "\n",
        "2014-10-20 18:18:26.370114\trows seen: 2100000\tcurrent logloss: 0.486416\tavg accuracy: 0.776966"
       ]
      },
      {
       "output_type": "stream",
       "stream": "stdout",
       "text": [
        "\n",
        "2014-10-20 18:19:16.178290\trows seen: 2200000\tcurrent logloss: 0.485913\tavg accuracy: 0.777128"
       ]
      },
      {
       "output_type": "stream",
       "stream": "stdout",
       "text": [
        "\n",
        "2014-10-20 18:20:09.809076\trows seen: 2300000\tcurrent logloss: 0.485372\tavg accuracy: 0.777291"
       ]
      },
      {
       "output_type": "stream",
       "stream": "stdout",
       "text": [
        "\n",
        "2014-10-20 18:20:58.133199\trows seen: 2400000\tcurrent logloss: 0.484891\tavg accuracy: 0.777451"
       ]
      },
      {
       "output_type": "stream",
       "stream": "stdout",
       "text": [
        "\n",
        "2014-10-20 18:21:49.880735\trows seen: 2500000\tcurrent logloss: 0.484598\tavg accuracy: 0.777462"
       ]
      },
      {
       "output_type": "stream",
       "stream": "stdout",
       "text": [
        "\n",
        "2014-10-20 18:22:39.501814\trows seen: 2600000\tcurrent logloss: 0.484421\tavg accuracy: 0.777435"
       ]
      },
      {
       "output_type": "stream",
       "stream": "stdout",
       "text": [
        "\n",
        "2014-10-20 18:23:29.856535\trows seen: 2700000\tcurrent logloss: 0.484155\tavg accuracy: 0.777476"
       ]
      },
      {
       "output_type": "stream",
       "stream": "stdout",
       "text": [
        "\n",
        "2014-10-20 18:24:19.460229\trows seen: 2800000\tcurrent logloss: 0.483934\tavg accuracy: 0.777473"
       ]
      },
      {
       "output_type": "stream",
       "stream": "stdout",
       "text": [
        "\n",
        "2014-10-20 18:25:07.965882\trows seen: 2900000\tcurrent logloss: 0.483625\tavg accuracy: 0.777578"
       ]
      },
      {
       "output_type": "stream",
       "stream": "stdout",
       "text": [
        "\n",
        "2014-10-20 18:25:56.670407\trows seen: 3000000\tcurrent logloss: 0.483394\tavg accuracy: 0.777579"
       ]
      },
      {
       "output_type": "stream",
       "stream": "stdout",
       "text": [
        "\n",
        "2014-10-20 18:26:46.001527\trows seen: 3100000\tcurrent logloss: 0.483296\tavg accuracy: 0.777540"
       ]
      },
      {
       "output_type": "stream",
       "stream": "stdout",
       "text": [
        "\n",
        "2014-10-20 18:27:38.007472\trows seen: 3200000\tcurrent logloss: 0.483238\tavg accuracy: 0.777450"
       ]
      },
      {
       "output_type": "stream",
       "stream": "stdout",
       "text": [
        "\n",
        "2014-10-20 18:28:27.189026\trows seen: 3300000\tcurrent logloss: 0.483198\tavg accuracy: 0.777376"
       ]
      },
      {
       "output_type": "stream",
       "stream": "stdout",
       "text": [
        "\n",
        "2014-10-20 18:29:15.613700\trows seen: 3400000\tcurrent logloss: 0.482994\tavg accuracy: 0.777440"
       ]
      },
      {
       "output_type": "stream",
       "stream": "stdout",
       "text": [
        "\n",
        "2014-10-20 18:30:03.874181\trows seen: 3500000\tcurrent logloss: 0.482834\tavg accuracy: 0.777454"
       ]
      },
      {
       "output_type": "stream",
       "stream": "stdout",
       "text": [
        "\n",
        "2014-10-20 18:30:52.055460\trows seen: 3600000\tcurrent logloss: 0.482759\tavg accuracy: 0.777450"
       ]
      },
      {
       "output_type": "stream",
       "stream": "stdout",
       "text": [
        "\n",
        "2014-10-20 18:31:39.992477\trows seen: 3700000\tcurrent logloss: 0.482660\tavg accuracy: 0.777412"
       ]
      },
      {
       "output_type": "stream",
       "stream": "stdout",
       "text": [
        "\n",
        "2014-10-20 18:32:34.026288\trows seen: 3800000\tcurrent logloss: 0.482484\tavg accuracy: 0.777478"
       ]
      },
      {
       "output_type": "stream",
       "stream": "stdout",
       "text": [
        "\n",
        "2014-10-20 18:33:28.410947\trows seen: 3900000\tcurrent logloss: 0.482273\tavg accuracy: 0.777528"
       ]
      },
      {
       "output_type": "stream",
       "stream": "stdout",
       "text": [
        "\n",
        "2014-10-20 18:34:16.105502\trows seen: 4000000\tcurrent logloss: 0.481973\tavg accuracy: 0.777629"
       ]
      },
      {
       "output_type": "stream",
       "stream": "stdout",
       "text": [
        "\n",
        "2014-10-20 18:35:04.010044\trows seen: 4100000\tcurrent logloss: 0.481811\tavg accuracy: 0.777685"
       ]
      },
      {
       "output_type": "stream",
       "stream": "stdout",
       "text": [
        "\n",
        "2014-10-20 18:35:51.443485\trows seen: 4200000\tcurrent logloss: 0.481580\tavg accuracy: 0.777780"
       ]
      },
      {
       "output_type": "stream",
       "stream": "stdout",
       "text": [
        "\n",
        "2014-10-20 18:36:39.015476\trows seen: 4300000\tcurrent logloss: 0.481435\tavg accuracy: 0.777808"
       ]
      },
      {
       "output_type": "stream",
       "stream": "stdout",
       "text": [
        "\n",
        "2014-10-20 18:37:26.516020\trows seen: 4400000\tcurrent logloss: 0.481317\tavg accuracy: 0.777850"
       ]
      },
      {
       "output_type": "stream",
       "stream": "stdout",
       "text": [
        "\n",
        "2014-10-20 18:38:14.107342\trows seen: 4500000\tcurrent logloss: 0.481141\tavg accuracy: 0.777896"
       ]
      },
      {
       "output_type": "stream",
       "stream": "stdout",
       "text": [
        "\n",
        "2014-10-20 18:39:01.753792\trows seen: 4600000\tcurrent logloss: 0.481127\tavg accuracy: 0.777832"
       ]
      },
      {
       "output_type": "stream",
       "stream": "stdout",
       "text": [
        "\n",
        "2014-10-20 18:39:50.962995\trows seen: 4700000\tcurrent logloss: 0.481012\tavg accuracy: 0.777854"
       ]
      },
      {
       "output_type": "stream",
       "stream": "stdout",
       "text": [
        "\n",
        "2014-10-20 18:40:38.628107\trows seen: 4800000\tcurrent logloss: 0.480864\tavg accuracy: 0.777898"
       ]
      },
      {
       "output_type": "stream",
       "stream": "stdout",
       "text": [
        "\n",
        "2014-10-20 18:41:26.061868\trows seen: 4900000\tcurrent logloss: 0.480816\tavg accuracy: 0.777901"
       ]
      },
      {
       "output_type": "stream",
       "stream": "stdout",
       "text": [
        "\n",
        "2014-10-20 18:42:13.888689\trows seen: 5000000\tcurrent logloss: 0.480756\tavg accuracy: 0.777887"
       ]
      },
      {
       "output_type": "stream",
       "stream": "stdout",
       "text": [
        "\n",
        "2014-10-20 18:43:01.545016\trows seen: 5100000\tcurrent logloss: 0.480673\tavg accuracy: 0.777909"
       ]
      },
      {
       "output_type": "stream",
       "stream": "stdout",
       "text": [
        "\n",
        "2014-10-20 18:43:49.304575\trows seen: 5200000\tcurrent logloss: 0.480507\tavg accuracy: 0.777980"
       ]
      },
      {
       "output_type": "stream",
       "stream": "stdout",
       "text": [
        "\n",
        "2014-10-20 18:44:36.877665\trows seen: 5300000\tcurrent logloss: 0.480435\tavg accuracy: 0.777998"
       ]
      },
      {
       "output_type": "stream",
       "stream": "stdout",
       "text": [
        "\n",
        "2014-10-20 18:53:01.351067\trows seen: 5400000\tcurrent logloss: 0.480343\tavg accuracy: 0.778040"
       ]
      },
      {
       "output_type": "stream",
       "stream": "stdout",
       "text": [
        "\n",
        "2014-10-20 18:54:12.641426\trows seen: 5500000\tcurrent logloss: 0.480341\tavg accuracy: 0.778027"
       ]
      },
      {
       "output_type": "stream",
       "stream": "stdout",
       "text": [
        "\n",
        "2014-10-20 18:55:03.672714\trows seen: 5600000\tcurrent logloss: 0.480240\tavg accuracy: 0.778052"
       ]
      },
      {
       "output_type": "stream",
       "stream": "stdout",
       "text": [
        "\n",
        "2014-10-20 18:55:54.703176\trows seen: 5700000\tcurrent logloss: 0.480151\tavg accuracy: 0.778092"
       ]
      },
      {
       "output_type": "stream",
       "stream": "stdout",
       "text": [
        "\n",
        "2014-10-20 18:56:44.812748\trows seen: 5800000\tcurrent logloss: 0.480078\tavg accuracy: 0.778139"
       ]
      },
      {
       "output_type": "stream",
       "stream": "stdout",
       "text": [
        "\n",
        "2014-10-20 18:57:34.639886\trows seen: 5900000\tcurrent logloss: 0.479974\tavg accuracy: 0.778193"
       ]
      },
      {
       "output_type": "stream",
       "stream": "stdout",
       "text": [
        "\n",
        "2014-10-20 18:58:24.325081\trows seen: 6000000\tcurrent logloss: 0.479935\tavg accuracy: 0.778197"
       ]
      },
      {
       "output_type": "stream",
       "stream": "stdout",
       "text": [
        "\n",
        "2014-10-20 18:59:13.869465\trows seen: 6100000\tcurrent logloss: 0.479785\tavg accuracy: 0.778267"
       ]
      },
      {
       "output_type": "stream",
       "stream": "stdout",
       "text": [
        "\n",
        "2014-10-20 19:00:01.846490\trows seen: 6200000\tcurrent logloss: 0.479637\tavg accuracy: 0.778348"
       ]
      },
      {
       "output_type": "stream",
       "stream": "stdout",
       "text": [
        "\n",
        "2014-10-20 19:00:52.534781\trows seen: 6300000\tcurrent logloss: 0.479432\tavg accuracy: 0.778464"
       ]
      },
      {
       "output_type": "stream",
       "stream": "stdout",
       "text": [
        "\n",
        "2014-10-20 19:01:44.601711\trows seen: 6400000\tcurrent logloss: 0.479160\tavg accuracy: 0.778630"
       ]
      },
      {
       "output_type": "stream",
       "stream": "stdout",
       "text": [
        "\n",
        "2014-10-20 19:02:35.472517\trows seen: 6500000\tcurrent logloss: 0.478729\tavg accuracy: 0.778893"
       ]
      },
      {
       "output_type": "stream",
       "stream": "stdout",
       "text": [
        "\n",
        "2014-10-20 19:03:24.352925\trows seen: 6600000\tcurrent logloss: 0.478541\tavg accuracy: 0.778977"
       ]
      },
      {
       "output_type": "stream",
       "stream": "stdout",
       "text": [
        "\n",
        "2014-10-20 19:04:11.357034\trows seen: 6700000\tcurrent logloss: 0.478947\tavg accuracy: 0.778655"
       ]
      },
      {
       "output_type": "stream",
       "stream": "stdout",
       "text": [
        "\n",
        "2014-10-20 19:04:58.020776\trows seen: 6800000\tcurrent logloss: 0.479332\tavg accuracy: 0.778343"
       ]
      },
      {
       "output_type": "stream",
       "stream": "stdout",
       "text": [
        "\n",
        "2014-10-20 19:05:44.555831\trows seen: 6900000\tcurrent logloss: 0.479688\tavg accuracy: 0.778039"
       ]
      },
      {
       "output_type": "stream",
       "stream": "stdout",
       "text": [
        "\n",
        "2014-10-20 19:06:31.057208\trows seen: 7000000\tcurrent logloss: 0.479906\tavg accuracy: 0.777864"
       ]
      },
      {
       "output_type": "stream",
       "stream": "stdout",
       "text": [
        "\n",
        "2014-10-20 19:07:17.485501\trows seen: 7100000\tcurrent logloss: 0.480092\tavg accuracy: 0.777686"
       ]
      },
      {
       "output_type": "stream",
       "stream": "stdout",
       "text": [
        "\n",
        "2014-10-20 19:08:07.429209\trows seen: 7200000\tcurrent logloss: 0.480196\tavg accuracy: 0.777614"
       ]
      },
      {
       "output_type": "stream",
       "stream": "stdout",
       "text": [
        "\n",
        "2014-10-20 19:08:59.165128\trows seen: 7300000\tcurrent logloss: 0.480253\tavg accuracy: 0.777551"
       ]
      },
      {
       "output_type": "stream",
       "stream": "stdout",
       "text": [
        "\n",
        "2014-10-20 19:09:47.374290\trows seen: 7400000\tcurrent logloss: 0.480282\tavg accuracy: 0.777517"
       ]
      },
      {
       "output_type": "stream",
       "stream": "stdout",
       "text": [
        "\n",
        "2014-10-20 19:10:35.505040\trows seen: 7500000\tcurrent logloss: 0.480297\tavg accuracy: 0.777509"
       ]
      },
      {
       "output_type": "stream",
       "stream": "stdout",
       "text": [
        "\n",
        "2014-10-20 19:11:23.811570\trows seen: 7600000\tcurrent logloss: 0.480313\tavg accuracy: 0.777476"
       ]
      },
      {
       "output_type": "stream",
       "stream": "stdout",
       "text": [
        "\n",
        "2014-10-20 19:12:13.976787\trows seen: 7700000\tcurrent logloss: 0.480349\tavg accuracy: 0.777452"
       ]
      },
      {
       "output_type": "stream",
       "stream": "stdout",
       "text": [
        "\n",
        "2014-10-20 19:13:05.594619\trows seen: 7800000\tcurrent logloss: 0.480326\tavg accuracy: 0.777457"
       ]
      },
      {
       "output_type": "stream",
       "stream": "stdout",
       "text": [
        "\n",
        "2014-10-20 19:13:55.835634\trows seen: 7900000\tcurrent logloss: 0.480219\tavg accuracy: 0.777513"
       ]
      },
      {
       "output_type": "stream",
       "stream": "stdout",
       "text": [
        "\n",
        "2014-10-20 19:14:47.451838\trows seen: 8000000\tcurrent logloss: 0.480110\tavg accuracy: 0.777578"
       ]
      },
      {
       "output_type": "stream",
       "stream": "stdout",
       "text": [
        "\n",
        "2014-10-20 19:15:38.276064\trows seen: 8100000\tcurrent logloss: 0.479978\tavg accuracy: 0.777648"
       ]
      },
      {
       "output_type": "stream",
       "stream": "stdout",
       "text": [
        "\n",
        "2014-10-20 19:16:34.015618\trows seen: 8200000\tcurrent logloss: 0.479875\tavg accuracy: 0.777716"
       ]
      },
      {
       "output_type": "stream",
       "stream": "stdout",
       "text": [
        "\n",
        "2014-10-20 19:17:26.196038\trows seen: 8300000\tcurrent logloss: 0.479810\tavg accuracy: 0.777750"
       ]
      },
      {
       "output_type": "stream",
       "stream": "stdout",
       "text": [
        "\n",
        "2014-10-20 19:18:16.364421\trows seen: 8400000\tcurrent logloss: 0.479778\tavg accuracy: 0.777771"
       ]
      },
      {
       "output_type": "stream",
       "stream": "stdout",
       "text": [
        "\n",
        "2014-10-20 19:19:10.746285\trows seen: 8500000\tcurrent logloss: 0.479738\tavg accuracy: 0.777809"
       ]
      },
      {
       "output_type": "stream",
       "stream": "stdout",
       "text": [
        "\n",
        "2014-10-20 19:19:58.590355\trows seen: 8600000\tcurrent logloss: 0.479779\tavg accuracy: 0.777775"
       ]
      },
      {
       "output_type": "stream",
       "stream": "stdout",
       "text": [
        "\n",
        "2014-10-20 19:20:45.902297\trows seen: 8700000\tcurrent logloss: 0.479771\tavg accuracy: 0.777769"
       ]
      },
      {
       "output_type": "stream",
       "stream": "stdout",
       "text": [
        "\n",
        "2014-10-20 19:21:32.833851\trows seen: 8800000\tcurrent logloss: 0.479793\tavg accuracy: 0.777754"
       ]
      },
      {
       "output_type": "stream",
       "stream": "stdout",
       "text": [
        "\n",
        "2014-10-20 19:22:20.023034\trows seen: 8900000\tcurrent logloss: 0.479845\tavg accuracy: 0.777699"
       ]
      },
      {
       "output_type": "stream",
       "stream": "stdout",
       "text": [
        "\n",
        "2014-10-20 19:23:07.139865\trows seen: 9000000\tcurrent logloss: 0.479873\tavg accuracy: 0.777658"
       ]
      },
      {
       "output_type": "stream",
       "stream": "stdout",
       "text": [
        "\n",
        "2014-10-20 19:23:54.305188\trows seen: 9100000\tcurrent logloss: 0.479889\tavg accuracy: 0.777631"
       ]
      },
      {
       "output_type": "stream",
       "stream": "stdout",
       "text": [
        "\n",
        "2014-10-20 19:24:41.480662\trows seen: 9200000\tcurrent logloss: 0.479929\tavg accuracy: 0.777588"
       ]
      },
      {
       "output_type": "stream",
       "stream": "stdout",
       "text": [
        "\n",
        "2014-10-20 19:25:28.592342\trows seen: 9300000\tcurrent logloss: 0.479969\tavg accuracy: 0.777543"
       ]
      },
      {
       "output_type": "stream",
       "stream": "stdout",
       "text": [
        "\n",
        "2014-10-20 19:26:15.625344\trows seen: 9400000\tcurrent logloss: 0.480044\tavg accuracy: 0.777482"
       ]
      },
      {
       "output_type": "stream",
       "stream": "stdout",
       "text": [
        "\n",
        "2014-10-20 19:27:02.584610\trows seen: 9500000\tcurrent logloss: 0.480157\tavg accuracy: 0.777388"
       ]
      },
      {
       "output_type": "stream",
       "stream": "stdout",
       "text": [
        "\n",
        "2014-10-20 19:27:49.653403\trows seen: 9600000\tcurrent logloss: 0.480302\tavg accuracy: 0.777301"
       ]
      },
      {
       "output_type": "stream",
       "stream": "stdout",
       "text": [
        "\n",
        "2014-10-20 19:28:37.076004\trows seen: 9700000\tcurrent logloss: 0.480383\tavg accuracy: 0.777238"
       ]
      },
      {
       "output_type": "stream",
       "stream": "stdout",
       "text": [
        "\n",
        "2014-10-20 19:29:24.417774\trows seen: 9800000\tcurrent logloss: 0.480449\tavg accuracy: 0.777194"
       ]
      },
      {
       "output_type": "stream",
       "stream": "stdout",
       "text": [
        "\n",
        "2014-10-20 19:30:11.816850\trows seen: 9900000\tcurrent logloss: 0.480539\tavg accuracy: 0.777124"
       ]
      },
      {
       "output_type": "stream",
       "stream": "stdout",
       "text": [
        "\n"
       ]
      }
     ],
     "prompt_number": 50
    },
    {
     "cell_type": "markdown",
     "metadata": {},
     "source": [
      "For each row in the data set, the model calculates a penalty or cost for its prediction error. Because the model can never predict the true value with 100% certainty, there will always be some error for each prediction, however small. The model updates its weights / parameters at every iteration in attempt to reduce this cost for the next prediction.\n",
      "\n",
      "If the model is learning, its average cost should decrease over time. This average cost is plotted in the first chart. Similarly, the ratio of correct predictions should increase over time. The ratio of correct predictions is called \"accuracy\" is plotted in the second chart."
     ]
    },
    {
     "cell_type": "code",
     "collapsed": false,
     "input": [
      "# print chart   \n",
      "chart_data_frame = pd.DataFrame({\n",
      "                                'Avg Loss': chart_data[:,1],\n",
      "                                'Avg Accuracy': chart_data[:,2]\n",
      "                                }, \n",
      "                                index=chart_data[:,0])  "
     ],
     "language": "python",
     "metadata": {},
     "outputs": [],
     "prompt_number": 51
    },
    {
     "cell_type": "code",
     "collapsed": false,
     "input": [
      "# chart avg cost function value over time\n",
      "log_chart = chart_data_frame.ix[:,'Avg Loss'].plot()\n",
      "log_chart.set_xlabel('Iterations')\n",
      "log_chart.set_ylabel('Avg Log Loss')\n",
      "log_chart.set_title('Plot of Avg Cost Function Over Time')"
     ],
     "language": "python",
     "metadata": {},
     "outputs": [
      {
       "metadata": {},
       "output_type": "pyout",
       "prompt_number": 52,
       "text": [
        "<matplotlib.text.Text at 0x10c533fd0>"
       ]
      },
      {
       "metadata": {},
       "output_type": "display_data",
       "png": "[encoded data removed]",
       "text": [
        "<matplotlib.figure.Figure at 0x10c4aca50>"
       ]
      }
     ],
     "prompt_number": 52
    },
    {
     "cell_type": "code",
     "collapsed": false,
     "input": [
      "# chart avg prediction accuracy over time\n",
      "acc_chart = chart_data_frame.ix[:,'Avg Accuracy'].plot()\n",
      "acc_chart.set_xlabel('Iterations')\n",
      "acc_chart.set_ylabel('Avg Accuracy')\n",
      "acc_chart.set_title('Plot of Avg Prediction Accuracy Over Time')"
     ],
     "language": "python",
     "metadata": {},
     "outputs": [
      {
       "metadata": {},
       "output_type": "pyout",
       "prompt_number": 53,
       "text": [
        "<matplotlib.text.Text at 0x10c6700d0>"
       ]
      },
      {
       "metadata": {},
       "output_type": "display_data",
       "png": "[encoded data removed]",
       "text": [
        "<matplotlib.figure.Figure at 0x10c63fe90>"
       ]
      }
     ],
     "prompt_number": 53
    }
   ],
   "metadata": {}
  }
 ]
}